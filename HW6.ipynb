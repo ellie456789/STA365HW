{
  "nbformat": 4,
  "nbformat_minor": 0,
  "metadata": {
    "colab": {
      "provenance": [],
      "authorship_tag": "ABX9TyPDIBUpr/C6taFsYndFItb7",
      "include_colab_link": true
    },
    "kernelspec": {
      "name": "python3",
      "display_name": "Python 3"
    },
    "language_info": {
      "name": "python"
    },
    "widgets": {
      "application/vnd.jupyter.widget-state+json": {
        "98376a2de2ee4d6fbc331d77d6c175c9": {
          "model_module": "@jupyter-widgets/output",
          "model_name": "OutputModel",
          "model_module_version": "1.0.0",
          "state": {
            "_dom_classes": [],
            "_model_module": "@jupyter-widgets/output",
            "_model_module_version": "1.0.0",
            "_model_name": "OutputModel",
            "_view_count": null,
            "_view_module": "@jupyter-widgets/output",
            "_view_module_version": "1.0.0",
            "_view_name": "OutputView",
            "layout": "IPY_MODEL_39ccca41121e4d84a66c602efdbcaae5",
            "msg_id": "",
            "outputs": [
              {
                "output_type": "display_data",
                "data": {
                  "text/plain": "                                                                                                                   \n \u001b[1m          \u001b[0m \u001b[1m       \u001b[0m \u001b[1m          \u001b[0m \u001b[1m \u001b[0m\u001b[1mStep    \u001b[0m\u001b[1m \u001b[0m \u001b[1m \u001b[0m\u001b[1mGrad    \u001b[0m\u001b[1m \u001b[0m \u001b[1m        \u001b[0m \u001b[1m         \u001b[0m \u001b[1m \u001b[0m\u001b[1mAccept  \u001b[0m\u001b[1m \u001b[0m \u001b[1m \u001b[0m\u001b[1mSampling\u001b[0m\u001b[1m \u001b[0m \u001b[1m         \u001b[0m \u001b[1m          \u001b[0m \n \u001b[1m \u001b[0m\u001b[1mProgress\u001b[0m\u001b[1m \u001b[0m \u001b[1m \u001b[0m\u001b[1mDraws\u001b[0m\u001b[1m \u001b[0m \u001b[1m \u001b[0m\u001b[1mDiverge…\u001b[0m\u001b[1m \u001b[0m \u001b[1m \u001b[0m\u001b[1msize    \u001b[0m\u001b[1m \u001b[0m \u001b[1m \u001b[0m\u001b[1mevals   \u001b[0m\u001b[1m \u001b[0m \u001b[1m \u001b[0m\u001b[1mTuning\u001b[0m\u001b[1m \u001b[0m \u001b[1m \u001b[0m\u001b[1mScaling\u001b[0m\u001b[1m \u001b[0m \u001b[1m \u001b[0m\u001b[1mRate    \u001b[0m\u001b[1m \u001b[0m \u001b[1m \u001b[0m\u001b[1mSpeed   \u001b[0m\u001b[1m \u001b[0m \u001b[1m \u001b[0m\u001b[1mElapsed\u001b[0m\u001b[1m \u001b[0m \u001b[1m \u001b[0m\u001b[1mRemaini…\u001b[0m\u001b[1m \u001b[0m \n ───────────────────────────────────────────────────────────────────────────────────────────────────────────────── \n  \u001b[38;2;31;119;180m━━━━━━━━\u001b[0m   3000    0          0.89       1          False    12.10     0.00       431.23     0:00:06   0:00:00   \n                                                                                    draws/s                        \n  \u001b[38;2;31;119;180m━━━━━━━━\u001b[0m   3000    0          0.96       3          False    11.00     1.07       422.92     0:00:07   0:00:00   \n                                                                                    draws/s                        \n                                                                                                                   \n",
                  "text/html": "<pre style=\"white-space:pre;overflow-x:auto;line-height:normal;font-family:Menlo,'DejaVu Sans Mono',consolas,'Courier New',monospace\">                                                                                                                   \n <span style=\"font-weight: bold\">          </span> <span style=\"font-weight: bold\">       </span> <span style=\"font-weight: bold\">          </span> <span style=\"font-weight: bold\"> Step     </span> <span style=\"font-weight: bold\"> Grad     </span> <span style=\"font-weight: bold\">        </span> <span style=\"font-weight: bold\">         </span> <span style=\"font-weight: bold\"> Accept   </span> <span style=\"font-weight: bold\"> Sampling </span> <span style=\"font-weight: bold\">         </span> <span style=\"font-weight: bold\">          </span> \n <span style=\"font-weight: bold\"> Progress </span> <span style=\"font-weight: bold\"> Draws </span> <span style=\"font-weight: bold\"> Diverge… </span> <span style=\"font-weight: bold\"> size     </span> <span style=\"font-weight: bold\"> evals    </span> <span style=\"font-weight: bold\"> Tuning </span> <span style=\"font-weight: bold\"> Scaling </span> <span style=\"font-weight: bold\"> Rate     </span> <span style=\"font-weight: bold\"> Speed    </span> <span style=\"font-weight: bold\"> Elapsed </span> <span style=\"font-weight: bold\"> Remaini… </span> \n ───────────────────────────────────────────────────────────────────────────────────────────────────────────────── \n  <span style=\"color: #1f77b4; text-decoration-color: #1f77b4\">━━━━━━━━</span>   3000    0          0.89       1          False    12.10     0.00       431.23     0:00:06   0:00:00   \n                                                                                    draws/s                        \n  <span style=\"color: #1f77b4; text-decoration-color: #1f77b4\">━━━━━━━━</span>   3000    0          0.96       3          False    11.00     1.07       422.92     0:00:07   0:00:00   \n                                                                                    draws/s                        \n                                                                                                                   \n</pre>\n"
                },
                "metadata": {}
              }
            ]
          }
        },
        "39ccca41121e4d84a66c602efdbcaae5": {
          "model_module": "@jupyter-widgets/base",
          "model_name": "LayoutModel",
          "model_module_version": "1.2.0",
          "state": {
            "_model_module": "@jupyter-widgets/base",
            "_model_module_version": "1.2.0",
            "_model_name": "LayoutModel",
            "_view_count": null,
            "_view_module": "@jupyter-widgets/base",
            "_view_module_version": "1.2.0",
            "_view_name": "LayoutView",
            "align_content": null,
            "align_items": null,
            "align_self": null,
            "border": null,
            "bottom": null,
            "display": null,
            "flex": null,
            "flex_flow": null,
            "grid_area": null,
            "grid_auto_columns": null,
            "grid_auto_flow": null,
            "grid_auto_rows": null,
            "grid_column": null,
            "grid_gap": null,
            "grid_row": null,
            "grid_template_areas": null,
            "grid_template_columns": null,
            "grid_template_rows": null,
            "height": null,
            "justify_content": null,
            "justify_items": null,
            "left": null,
            "margin": null,
            "max_height": null,
            "max_width": null,
            "min_height": null,
            "min_width": null,
            "object_fit": null,
            "object_position": null,
            "order": null,
            "overflow": null,
            "overflow_x": null,
            "overflow_y": null,
            "padding": null,
            "right": null,
            "top": null,
            "visibility": null,
            "width": null
          }
        },
        "1f7da12d4ee943fa8735b699130af1fd": {
          "model_module": "@jupyter-widgets/output",
          "model_name": "OutputModel",
          "model_module_version": "1.0.0",
          "state": {
            "_dom_classes": [],
            "_model_module": "@jupyter-widgets/output",
            "_model_module_version": "1.0.0",
            "_model_name": "OutputModel",
            "_view_count": null,
            "_view_module": "@jupyter-widgets/output",
            "_view_module_version": "1.0.0",
            "_view_name": "OutputView",
            "layout": "IPY_MODEL_6b8e0e927d994f0cac8deee747d0e983",
            "msg_id": "",
            "outputs": [
              {
                "output_type": "display_data",
                "data": {
                  "text/plain": "                                                                                                                   \n \u001b[1m          \u001b[0m \u001b[1m       \u001b[0m \u001b[1m          \u001b[0m \u001b[1m \u001b[0m\u001b[1mStep    \u001b[0m\u001b[1m \u001b[0m \u001b[1m \u001b[0m\u001b[1mGrad    \u001b[0m\u001b[1m \u001b[0m \u001b[1m        \u001b[0m \u001b[1m         \u001b[0m \u001b[1m \u001b[0m\u001b[1mAccept  \u001b[0m\u001b[1m \u001b[0m \u001b[1m \u001b[0m\u001b[1mSampling\u001b[0m\u001b[1m \u001b[0m \u001b[1m         \u001b[0m \u001b[1m          \u001b[0m \n \u001b[1m \u001b[0m\u001b[1mProgress\u001b[0m\u001b[1m \u001b[0m \u001b[1m \u001b[0m\u001b[1mDraws\u001b[0m\u001b[1m \u001b[0m \u001b[1m \u001b[0m\u001b[1mDiverge…\u001b[0m\u001b[1m \u001b[0m \u001b[1m \u001b[0m\u001b[1msize    \u001b[0m\u001b[1m \u001b[0m \u001b[1m \u001b[0m\u001b[1mevals   \u001b[0m\u001b[1m \u001b[0m \u001b[1m \u001b[0m\u001b[1mTuning\u001b[0m\u001b[1m \u001b[0m \u001b[1m \u001b[0m\u001b[1mScaling\u001b[0m\u001b[1m \u001b[0m \u001b[1m \u001b[0m\u001b[1mRate    \u001b[0m\u001b[1m \u001b[0m \u001b[1m \u001b[0m\u001b[1mSpeed   \u001b[0m\u001b[1m \u001b[0m \u001b[1m \u001b[0m\u001b[1mElapsed\u001b[0m\u001b[1m \u001b[0m \u001b[1m \u001b[0m\u001b[1mRemaini…\u001b[0m\u001b[1m \u001b[0m \n ───────────────────────────────────────────────────────────────────────────────────────────────────────────────── \n  \u001b[38;2;31;119;180m━━━━━━━━\u001b[0m   3000    0          1.07       3          False    12.10     0.80       430.70     0:00:06   0:00:00   \n                                                                                    draws/s                        \n  \u001b[38;2;31;119;180m━━━━━━━━\u001b[0m   3000    0          0.70       1          False    13.31     0.90       434.48     0:00:06   0:00:00   \n                                                                                    draws/s                        \n                                                                                                                   \n",
                  "text/html": "<pre style=\"white-space:pre;overflow-x:auto;line-height:normal;font-family:Menlo,'DejaVu Sans Mono',consolas,'Courier New',monospace\">                                                                                                                   \n <span style=\"font-weight: bold\">          </span> <span style=\"font-weight: bold\">       </span> <span style=\"font-weight: bold\">          </span> <span style=\"font-weight: bold\"> Step     </span> <span style=\"font-weight: bold\"> Grad     </span> <span style=\"font-weight: bold\">        </span> <span style=\"font-weight: bold\">         </span> <span style=\"font-weight: bold\"> Accept   </span> <span style=\"font-weight: bold\"> Sampling </span> <span style=\"font-weight: bold\">         </span> <span style=\"font-weight: bold\">          </span> \n <span style=\"font-weight: bold\"> Progress </span> <span style=\"font-weight: bold\"> Draws </span> <span style=\"font-weight: bold\"> Diverge… </span> <span style=\"font-weight: bold\"> size     </span> <span style=\"font-weight: bold\"> evals    </span> <span style=\"font-weight: bold\"> Tuning </span> <span style=\"font-weight: bold\"> Scaling </span> <span style=\"font-weight: bold\"> Rate     </span> <span style=\"font-weight: bold\"> Speed    </span> <span style=\"font-weight: bold\"> Elapsed </span> <span style=\"font-weight: bold\"> Remaini… </span> \n ───────────────────────────────────────────────────────────────────────────────────────────────────────────────── \n  <span style=\"color: #1f77b4; text-decoration-color: #1f77b4\">━━━━━━━━</span>   3000    0          1.07       3          False    12.10     0.80       430.70     0:00:06   0:00:00   \n                                                                                    draws/s                        \n  <span style=\"color: #1f77b4; text-decoration-color: #1f77b4\">━━━━━━━━</span>   3000    0          0.70       1          False    13.31     0.90       434.48     0:00:06   0:00:00   \n                                                                                    draws/s                        \n                                                                                                                   \n</pre>\n"
                },
                "metadata": {}
              }
            ]
          }
        },
        "6b8e0e927d994f0cac8deee747d0e983": {
          "model_module": "@jupyter-widgets/base",
          "model_name": "LayoutModel",
          "model_module_version": "1.2.0",
          "state": {
            "_model_module": "@jupyter-widgets/base",
            "_model_module_version": "1.2.0",
            "_model_name": "LayoutModel",
            "_view_count": null,
            "_view_module": "@jupyter-widgets/base",
            "_view_module_version": "1.2.0",
            "_view_name": "LayoutView",
            "align_content": null,
            "align_items": null,
            "align_self": null,
            "border": null,
            "bottom": null,
            "display": null,
            "flex": null,
            "flex_flow": null,
            "grid_area": null,
            "grid_auto_columns": null,
            "grid_auto_flow": null,
            "grid_auto_rows": null,
            "grid_column": null,
            "grid_gap": null,
            "grid_row": null,
            "grid_template_areas": null,
            "grid_template_columns": null,
            "grid_template_rows": null,
            "height": null,
            "justify_content": null,
            "justify_items": null,
            "left": null,
            "margin": null,
            "max_height": null,
            "max_width": null,
            "min_height": null,
            "min_width": null,
            "object_fit": null,
            "object_position": null,
            "order": null,
            "overflow": null,
            "overflow_x": null,
            "overflow_y": null,
            "padding": null,
            "right": null,
            "top": null,
            "visibility": null,
            "width": null
          }
        },
        "4913e6c2ad3e4b7491c7691e0664ca3f": {
          "model_module": "@jupyter-widgets/output",
          "model_name": "OutputModel",
          "model_module_version": "1.0.0",
          "state": {
            "_dom_classes": [],
            "_model_module": "@jupyter-widgets/output",
            "_model_module_version": "1.0.0",
            "_model_name": "OutputModel",
            "_view_count": null,
            "_view_module": "@jupyter-widgets/output",
            "_view_module_version": "1.0.0",
            "_view_name": "OutputView",
            "layout": "IPY_MODEL_9e54c113d4624a02a592e41450e60bf5",
            "msg_id": "",
            "outputs": [
              {
                "output_type": "display_data",
                "data": {
                  "text/plain": "                                                                                                                   \n \u001b[1m          \u001b[0m \u001b[1m       \u001b[0m \u001b[1m          \u001b[0m \u001b[1m \u001b[0m\u001b[1mStep    \u001b[0m\u001b[1m \u001b[0m \u001b[1m \u001b[0m\u001b[1mGrad    \u001b[0m\u001b[1m \u001b[0m \u001b[1m        \u001b[0m \u001b[1m         \u001b[0m \u001b[1m \u001b[0m\u001b[1mAccept  \u001b[0m\u001b[1m \u001b[0m \u001b[1m \u001b[0m\u001b[1mSampling\u001b[0m\u001b[1m \u001b[0m \u001b[1m         \u001b[0m \u001b[1m          \u001b[0m \n \u001b[1m \u001b[0m\u001b[1mProgress\u001b[0m\u001b[1m \u001b[0m \u001b[1m \u001b[0m\u001b[1mDraws\u001b[0m\u001b[1m \u001b[0m \u001b[1m \u001b[0m\u001b[1mDiverge…\u001b[0m\u001b[1m \u001b[0m \u001b[1m \u001b[0m\u001b[1msize    \u001b[0m\u001b[1m \u001b[0m \u001b[1m \u001b[0m\u001b[1mevals   \u001b[0m\u001b[1m \u001b[0m \u001b[1m \u001b[0m\u001b[1mTuning\u001b[0m\u001b[1m \u001b[0m \u001b[1m \u001b[0m\u001b[1mScaling\u001b[0m\u001b[1m \u001b[0m \u001b[1m \u001b[0m\u001b[1mRate    \u001b[0m\u001b[1m \u001b[0m \u001b[1m \u001b[0m\u001b[1mSpeed   \u001b[0m\u001b[1m \u001b[0m \u001b[1m \u001b[0m\u001b[1mElapsed\u001b[0m\u001b[1m \u001b[0m \u001b[1m \u001b[0m\u001b[1mRemaini…\u001b[0m\u001b[1m \u001b[0m \n ───────────────────────────────────────────────────────────────────────────────────────────────────────────────── \n  \u001b[38;2;31;119;180m━━━━━━━━\u001b[0m   3000    0          0.89       3          False    2.66      0.99       260.17     0:00:11   0:00:00   \n                                                                                    draws/s                        \n  \u001b[38;2;31;119;180m━━━━━━━━\u001b[0m   3000    0          0.86       1          False    3.22      1.38       257.67     0:00:11   0:00:00   \n                                                                                    draws/s                        \n                                                                                                                   \n",
                  "text/html": "<pre style=\"white-space:pre;overflow-x:auto;line-height:normal;font-family:Menlo,'DejaVu Sans Mono',consolas,'Courier New',monospace\">                                                                                                                   \n <span style=\"font-weight: bold\">          </span> <span style=\"font-weight: bold\">       </span> <span style=\"font-weight: bold\">          </span> <span style=\"font-weight: bold\"> Step     </span> <span style=\"font-weight: bold\"> Grad     </span> <span style=\"font-weight: bold\">        </span> <span style=\"font-weight: bold\">         </span> <span style=\"font-weight: bold\"> Accept   </span> <span style=\"font-weight: bold\"> Sampling </span> <span style=\"font-weight: bold\">         </span> <span style=\"font-weight: bold\">          </span> \n <span style=\"font-weight: bold\"> Progress </span> <span style=\"font-weight: bold\"> Draws </span> <span style=\"font-weight: bold\"> Diverge… </span> <span style=\"font-weight: bold\"> size     </span> <span style=\"font-weight: bold\"> evals    </span> <span style=\"font-weight: bold\"> Tuning </span> <span style=\"font-weight: bold\"> Scaling </span> <span style=\"font-weight: bold\"> Rate     </span> <span style=\"font-weight: bold\"> Speed    </span> <span style=\"font-weight: bold\"> Elapsed </span> <span style=\"font-weight: bold\"> Remaini… </span> \n ───────────────────────────────────────────────────────────────────────────────────────────────────────────────── \n  <span style=\"color: #1f77b4; text-decoration-color: #1f77b4\">━━━━━━━━</span>   3000    0          0.89       3          False    2.66      0.99       260.17     0:00:11   0:00:00   \n                                                                                    draws/s                        \n  <span style=\"color: #1f77b4; text-decoration-color: #1f77b4\">━━━━━━━━</span>   3000    0          0.86       1          False    3.22      1.38       257.67     0:00:11   0:00:00   \n                                                                                    draws/s                        \n                                                                                                                   \n</pre>\n"
                },
                "metadata": {}
              }
            ]
          }
        },
        "9e54c113d4624a02a592e41450e60bf5": {
          "model_module": "@jupyter-widgets/base",
          "model_name": "LayoutModel",
          "model_module_version": "1.2.0",
          "state": {
            "_model_module": "@jupyter-widgets/base",
            "_model_module_version": "1.2.0",
            "_model_name": "LayoutModel",
            "_view_count": null,
            "_view_module": "@jupyter-widgets/base",
            "_view_module_version": "1.2.0",
            "_view_name": "LayoutView",
            "align_content": null,
            "align_items": null,
            "align_self": null,
            "border": null,
            "bottom": null,
            "display": null,
            "flex": null,
            "flex_flow": null,
            "grid_area": null,
            "grid_auto_columns": null,
            "grid_auto_flow": null,
            "grid_auto_rows": null,
            "grid_column": null,
            "grid_gap": null,
            "grid_row": null,
            "grid_template_areas": null,
            "grid_template_columns": null,
            "grid_template_rows": null,
            "height": null,
            "justify_content": null,
            "justify_items": null,
            "left": null,
            "margin": null,
            "max_height": null,
            "max_width": null,
            "min_height": null,
            "min_width": null,
            "object_fit": null,
            "object_position": null,
            "order": null,
            "overflow": null,
            "overflow_x": null,
            "overflow_y": null,
            "padding": null,
            "right": null,
            "top": null,
            "visibility": null,
            "width": null
          }
        }
      }
    }
  },
  "cells": [
    {
      "cell_type": "markdown",
      "metadata": {
        "id": "view-in-github",
        "colab_type": "text"
      },
      "source": [
        "<a href=\"https://colab.research.google.com/github/ellie456789/STA365HW/blob/main/HW6.ipynb\" target=\"_parent\"><img src=\"https://colab.research.google.com/assets/colab-badge.svg\" alt=\"Open In Colab\"/></a>"
      ]
    },
    {
      "cell_type": "markdown",
      "source": [
        "Question 1\n"
      ],
      "metadata": {
        "id": "urpp2hXLHW4I"
      }
    },
    {
      "cell_type": "code",
      "source": [
        "import numpy as np\n",
        "from scipy import stats\n",
        "import matplotlib.pyplot as plt\n",
        "\n",
        "# Posterior w/ log\n",
        "def log_posterior(u, sigma2, v, x):\n",
        "    n = len(x)\n",
        "\n",
        "    # Prior for u\n",
        "    log_prior_u = -0.5 * tau0 * (u - u0) ** 2\n",
        "\n",
        "    # Prior for sigma2\n",
        "    log_prior_sigma2 = -0.5 * (sigma2 ** 2) / sigma0 ** 2\n",
        "\n",
        "    # Prior for v\n",
        "    log_prior_v = -np.log(100) if 1 <= v <= 100 else -np.inf\n",
        "\n",
        "    # likelihood\n",
        "    log_likelihood = np.sum(stats.t.logpdf(x, df=v, loc=u, scale=np.sqrt(sigma2)))\n",
        "\n",
        "    return log_likelihood + log_prior_u + log_prior_sigma2 + log_prior_v\n",
        "\n",
        "# MH for v -> log\n",
        "def metropolis_update_v(current_v, u, sigma2, x):\n",
        "    proposal_v = np.random.choice(np.arange(1, 101))  # Propose a new v from {1, ..., 100}\n",
        "    log_alpha = log_posterior(u, sigma2, proposal_v, x) - log_posterior(u, sigma2, current_v, x)\n",
        "\n",
        "    if np.log(np.random.rand()) < log_alpha:\n",
        "        return proposal_v  # Accept\n",
        "    else:\n",
        "        return current_v  # Reject\n",
        "\n",
        "# Gibbs Sampler Implementation\n",
        "def gibbs_sampler(n_samples, x):\n",
        "    n = len(x)\n",
        "    u_samples = np.zeros(n_samples)\n",
        "    sigma2_samples = np.zeros(n_samples)\n",
        "    v_samples = np.zeros(n_samples)\n",
        "\n",
        "    # Initialize parameters\n",
        "    u = np.mean(x)\n",
        "    sigma2 = np.var(x)\n",
        "    v = np.random.choice(np.arange(1, 101))  # Initialize v randomly\n",
        "\n",
        "    for i in range(n_samples):\n",
        "        u_var = 1 / (tau0 + n / sigma2)\n",
        "        u_mean = u_var * (tau0 * u0 + np.sum(x) / sigma2)\n",
        "        u = np.random.normal(u_mean, np.sqrt(u_var))\n",
        "\n",
        "\n",
        "        sigma2 = abs(np.random.normal(scale=sigma0))\n",
        "\n",
        "        v = metropolis_update_v(v, u, sigma2, x)\n",
        "\n",
        "        # Store samples\n",
        "        u_samples[i] = u\n",
        "        sigma2_samples[i] = sigma2\n",
        "        v_samples[i] = v\n",
        "\n",
        "    return u_samples, sigma2_samples, v_samples\n",
        "\n",
        "# run\n",
        "np.random.seed(42)\n",
        "x = stats.t.rvs(df=10, loc=5, scale=2, size=100)\n",
        "\n",
        "u0, tau0 = 3, 1\n",
        "sigma0 = 5\n",
        "n_samples = 5000\n",
        "u_samples, sigma2_samples, v_samples = gibbs_sampler(n_samples, x)\n",
        "\n",
        "# Plot results\n",
        "plt.figure(figsize=(10, 4))\n",
        "plt.hist(u_samples, bins=30, alpha=0.7, label=r'$u$')\n",
        "plt.hist(sigma2_samples, bins=30, alpha=0.7, label=r'$\\sigma^2$')\n",
        "plt.hist(v_samples, bins=30, alpha=0.7, label=r'$v$')\n",
        "plt.legend()\n",
        "plt.show()\n"
      ],
      "metadata": {
        "colab": {
          "base_uri": "https://localhost:8080/",
          "height": 368
        },
        "id": "X98Y2W_-HX8Y",
        "outputId": "438e919b-4f08-4316-db15-5961ca80cb01"
      },
      "execution_count": 17,
      "outputs": [
        {
          "output_type": "display_data",
          "data": {
            "text/plain": [
              "<Figure size 1000x400 with 1 Axes>"
            ],
            "image/png": "[encoded data removed]"
          },
          "metadata": {}
        }
      ]
    },
    {
      "cell_type": "markdown",
      "source": [
        "Question 2\n"
      ],
      "metadata": {
        "id": "ondveC2tVpXl"
      }
    },
    {
      "cell_type": "code",
      "source": [
        "import pymc as pm\n",
        "import matplotlib.pyplot as plt\n",
        "import numpy as np\n",
        "import arviz as az\n",
        "\n",
        "# Bayesian inference for different sample sizes\n",
        "def pymc_inference(n_samples):\n",
        "    np.random.seed(42)\n",
        "\n",
        "    # Generate synthetic data from a Student's t-distribution\n",
        "    true_u = 5\n",
        "    true_sigma = 2\n",
        "    true_v = 10  # True degrees of freedom\n",
        "    x = np.random.standard_t(df=true_v, size=n_samples) * true_sigma + true_u\n",
        "\n",
        "    # Define Bayesian Model\n",
        "\n",
        "    with pm.Model() as model:\n",
        "        # Priors\n",
        "        u = pm.Normal(\"u\", mu=5, sigma=1)  # Normal prior for mean\n",
        "        sigma = pm.HalfNormal(\"sigma\", sigma=2)  # Half-Normal prior for variance\n",
        "        v = pm.DiscreteUniform(\"v\", lower=1, upper=100)  # Discrete uniform prior for degrees of freedom\n",
        "\n",
        "        # Likelihood\n",
        "        likelihood = pm.StudentT(\"obs\", nu=v, mu=u, sigma=sigma, observed=x)\n",
        "\n",
        "        # MCMC Sampling using NUTS\n",
        "        trace = pm.sample(2000, return_inferencedata=True, cores=2)\n",
        "\n",
        "    return trace\n",
        "\n",
        "# Run  for different sample sizes\n",
        "trace_100 = pymc_inference(100)   # Small sample size\n",
        "trace_1000 = pymc_inference(1000)   # Medium sample size\n",
        "trace_5000 = pymc_inference(5000) # Large sample size\n",
        "\n",
        "# posterior distributions of v\n",
        "az.plot_posterior(\n",
        "    {\"n=100\": trace_100.posterior[\"v\"], \"n=1000\": trace_1000.posterior[\"v\"], \"n=5000\": trace_5000.posterior[\"v\"]},\n",
        "    hdi_prob=0.95\n",
        ")\n",
        "plt.title(\"Posterior Distributions of v at Different Sample Sizes\")\n",
        "plt.show()\n",
        "\n",
        "#checking $R\n",
        "print(\"R-hat for n=100:\\n\", az.summary(trace_100, var_names=[\"v\"])[\"r_hat\"])\n",
        "print(\"R-hat for n=1000:\\n\", az.summary(trace_1000, var_names=[\"v\"])[\"r_hat\"])\n",
        "print(\"R-hat for n=5000:\\n\", az.summary(trace_5000, var_names=[\"v\"])[\"r_hat\"])\n",
        "\n",
        "# Summary of posterior distributions\n",
        "summary_100 = az.summary(trace_100, var_names=[\"v\"], round_to=2)\n",
        "summary_1000 = az.summary(trace_1000, var_names=[\"v\"], round_to=2)\n",
        "summary_5000 = az.summary(trace_5000, var_names=[\"v\"], round_to=2)\n",
        "\n",
        "print(\"\\nPosterior Summary for n=100:\\n\", summary_100)\n",
        "print(\"\\nPosterior Summary for n=1000:\\n\", summary_1000)\n",
        "print(\"\\nPosterior Summary for n=5000:\\n\", summary_5000)\n",
        "\n"
      ],
      "metadata": {
        "colab": {
          "base_uri": "https://localhost:8080/",
          "height": 1000,
          "referenced_widgets": [
            "98376a2de2ee4d6fbc331d77d6c175c9",
            "39ccca41121e4d84a66c602efdbcaae5",
            "1f7da12d4ee943fa8735b699130af1fd",
            "6b8e0e927d994f0cac8deee747d0e983",
            "4913e6c2ad3e4b7491c7691e0664ca3f",
            "9e54c113d4624a02a592e41450e60bf5"
          ]
        },
        "id": "KJoqHdTlVqme",
        "outputId": "203bfb2a-6bb4-4d37-cec5-e508810261d6"
      },
      "execution_count": 21,
      "outputs": [
        {
          "output_type": "display_data",
          "data": {
            "text/plain": [
              "Output()"
            ],
            "application/vnd.jupyter.widget-view+json": {
              "version_major": 2,
              "version_minor": 0,
              "model_id": "98376a2de2ee4d6fbc331d77d6c175c9"
            }
          },
          "metadata": {}
        },
        {
          "output_type": "display_data",
          "data": {
            "text/plain": [],
            "text/html": [
              "<pre style=\"white-space:pre;overflow-x:auto;line-height:normal;font-family:Menlo,'DejaVu Sans Mono',consolas,'Courier New',monospace\"></pre>\n"
            ]
          },
          "metadata": {}
        },
        {
          "output_type": "stream",
          "name": "stderr",
          "text": [
            "ERROR:pymc.stats.convergence:The effective sample size per chain is smaller than 100 for some parameters.  A higher number is needed for reliable rhat and ess computation. See https://arxiv.org/abs/1903.08008 for details\n"
          ]
        },
        {
          "output_type": "display_data",
          "data": {
            "text/plain": [
              "Output()"
            ],
            "application/vnd.jupyter.widget-view+json": {
              "version_major": 2,
              "version_minor": 0,
              "model_id": "1f7da12d4ee943fa8735b699130af1fd"
            }
          },
          "metadata": {}
        },
        {
          "output_type": "display_data",
          "data": {
            "text/plain": [],
            "text/html": [
              "<pre style=\"white-space:pre;overflow-x:auto;line-height:normal;font-family:Menlo,'DejaVu Sans Mono',consolas,'Courier New',monospace\"></pre>\n"
            ]
          },
          "metadata": {}
        },
        {
          "output_type": "stream",
          "name": "stderr",
          "text": [
            "ERROR:pymc.stats.convergence:The effective sample size per chain is smaller than 100 for some parameters.  A higher number is needed for reliable rhat and ess computation. See https://arxiv.org/abs/1903.08008 for details\n"
          ]
        },
        {
          "output_type": "display_data",
          "data": {
            "text/plain": [
              "Output()"
            ],
            "application/vnd.jupyter.widget-view+json": {
              "version_major": 2,
              "version_minor": 0,
              "model_id": "4913e6c2ad3e4b7491c7691e0664ca3f"
            }
          },
          "metadata": {}
        },
        {
          "output_type": "display_data",
          "data": {
            "text/plain": [],
            "text/html": [
              "<pre style=\"white-space:pre;overflow-x:auto;line-height:normal;font-family:Menlo,'DejaVu Sans Mono',consolas,'Courier New',monospace\"></pre>\n"
            ]
          },
          "metadata": {}
        },
        {
          "output_type": "display_data",
          "data": {
            "text/plain": [
              "<Figure size 2208x552 with 3 Axes>"
            ],
            "image/png": "[encoded data removed]"
          },
          "metadata": {}
        },
        {
          "output_type": "stream",
          "name": "stdout",
          "text": [
            "R-hat for n=100:\n",
            " v    1.02\n",
            "Name: r_hat, dtype: float64\n",
            "R-hat for n=1000:\n",
            " v    1.03\n",
            "Name: r_hat, dtype: float64\n",
            "R-hat for n=5000:\n",
            " v    1.01\n",
            "Name: r_hat, dtype: float64\n",
            "\n",
            "Posterior Summary for n=100:\n",
            "     mean     sd  hdi_3%  hdi_97%  mcse_mean  mcse_sd  ess_bulk  ess_tail  \\\n",
            "v  14.14  16.15     3.0     48.0       1.68     1.19    157.59    116.79   \n",
            "\n",
            "   r_hat  \n",
            "v   1.02  \n",
            "\n",
            "Posterior Summary for n=1000:\n",
            "     mean     sd  hdi_3%  hdi_97%  mcse_mean  mcse_sd  ess_bulk  ess_tail  \\\n",
            "v  17.41  11.77     6.0     35.0        0.9     0.64    191.83    263.09   \n",
            "\n",
            "   r_hat  \n",
            "v   1.03  \n",
            "\n",
            "Posterior Summary for n=5000:\n",
            "     mean   sd  hdi_3%  hdi_97%  mcse_mean  mcse_sd  ess_bulk  ess_tail  r_hat\n",
            "v  11.82  1.9     9.0     15.0       0.11     0.08    312.12    527.27   1.01\n"
          ]
        }
      ]
    },
    {
      "cell_type": "markdown",
      "source": [
        "it shows that larger sampler size ensures less uncertanity for v"
      ],
      "metadata": {
        "id": "akC2-c21bwU_"
      }
    },
    {
      "cell_type": "markdown",
      "source": [
        "Question 3\n",
        "$$\n",
        "P(\\tau_i) = Gamma (\\tau_i | \\alpha = v/2, \\beta = v/2) \\\\\n",
        "P(y_i|\\tau_i) = N(y_i|0, \\tau_i^-1)\\\\\n",
        "$$\n",
        "integral with tau:\n",
        "$$\n",
        "p(y_i) = \\int P(y_i|\\tau_i) P(\\tau_i) d \\tau_i\n",
        "$$\n",
        "which result in t-distribution\n",
        "$$\n",
        "y_i = t_v(0,1)\n",
        "$$"
      ],
      "metadata": {
        "id": "Shx4OAvQb1G7"
      }
    }
  ]
}